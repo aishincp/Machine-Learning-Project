{
 "cells": [
  {
   "cell_type": "code",
   "execution_count": 1,
   "id": "87b8d59f",
   "metadata": {
    "scrolled": false
   },
   "outputs": [
    {
     "name": "stdout",
     "output_type": "stream",
     "text": [
      "[[   0    0]\n",
      " [2632 2368]]\n"
     ]
    },
    {
     "data": {
      "image/png": "[encoded data removed]",
      "text/plain": [
       "<Figure size 432x288 with 2 Axes>"
      ]
     },
     "metadata": {
      "needs_background": "light"
     },
     "output_type": "display_data"
    },
    {
     "name": "stdout",
     "output_type": "stream",
     "text": [
      "              precision    recall  f1-score   support\n",
      "\n",
      "           1       0.00      0.00      0.00         0\n",
      "           2       1.00      0.47      0.64      5000\n",
      "\n",
      "    accuracy                           0.47      5000\n",
      "   macro avg       0.50      0.24      0.32      5000\n",
      "weighted avg       1.00      0.47      0.64      5000\n",
      "\n",
      "TPR: [   nan 0.4736]\n",
      "TNR: [0.4736    nan]\n",
      "PPV: [0. 1.]\n",
      "NPV: [1. 0.]\n",
      "FPR: [52.64   nan]\n",
      "FNR: [  nan 52.64]\n",
      "FDR: [1. 0.]\n",
      "ACC: [0.4736 0.4736]\n"
     ]
    },
    {
     "name": "stderr",
     "output_type": "stream",
     "text": [
      "C:\\Users\\Ravikumar\\anaconda3\\lib\\site-packages\\sklearn\\metrics\\_classification.py:1318: UndefinedMetricWarning: Recall and F-score are ill-defined and being set to 0.0 in labels with no true samples. Use `zero_division` parameter to control this behavior.\n",
      "  _warn_prf(average, modifier, msg_start, len(result))\n",
      "C:\\Users\\Ravikumar\\anaconda3\\lib\\site-packages\\sklearn\\metrics\\_classification.py:1318: UndefinedMetricWarning: Recall and F-score are ill-defined and being set to 0.0 in labels with no true samples. Use `zero_division` parameter to control this behavior.\n",
      "  _warn_prf(average, modifier, msg_start, len(result))\n",
      "C:\\Users\\Ravikumar\\anaconda3\\lib\\site-packages\\sklearn\\metrics\\_classification.py:1318: UndefinedMetricWarning: Recall and F-score are ill-defined and being set to 0.0 in labels with no true samples. Use `zero_division` parameter to control this behavior.\n",
      "  _warn_prf(average, modifier, msg_start, len(result))\n",
      "C:\\Users\\Ravikumar\\AppData\\Local\\Temp\\ipykernel_20300\\1440751723.py:77: RuntimeWarning: invalid value encountered in true_divide\n",
      "  Recall = TP/(TP+FN)\n",
      "C:\\Users\\Ravikumar\\AppData\\Local\\Temp\\ipykernel_20300\\1440751723.py:85: RuntimeWarning: invalid value encountered in true_divide\n",
      "  TPR = TP/(TP+FN)\n",
      "C:\\Users\\Ravikumar\\AppData\\Local\\Temp\\ipykernel_20300\\1440751723.py:87: RuntimeWarning: invalid value encountered in true_divide\n",
      "  TNR = TN/(TN+FP)\n",
      "C:\\Users\\Ravikumar\\AppData\\Local\\Temp\\ipykernel_20300\\1440751723.py:93: RuntimeWarning: invalid value encountered in true_divide\n",
      "  FPR = FP/(FP+TN)\n",
      "C:\\Users\\Ravikumar\\AppData\\Local\\Temp\\ipykernel_20300\\1440751723.py:95: RuntimeWarning: invalid value encountered in true_divide\n",
      "  FNR = FN/(TP+FN)\n"
     ]
    }
   ],
   "source": [
    "##Without Classification.\n",
    "\n",
    "import numpy as np\n",
    "from sklearn.model_selection import train_test_split\n",
    "import pandas as pd\n",
    "from sklearn import datasets\n",
    "from sklearn.model_selection import train_test_split\n",
    "from sklearn.preprocessing import StandardScaler\n",
    "from sklearn.ensemble import RandomForestClassifier\n",
    "from sklearn.pipeline import make_pipeline\n",
    "import matplotlib.pyplot as plt\n",
    "import numpy as np\n",
    "from sklearn.metrics import f1_score\n",
    "from sklearn.metrics import confusion_matrix\n",
    "from sklearn.metrics import classification_report\n",
    "\n",
    "\n",
    "df = pd.read_excel ('P2 X = 200 and Y = 10000.xlsx') #change the file name only \n",
    "df.drop(df.columns[0], axis=1, inplace=True)\n",
    "df['Target'] = 2\n",
    "df.rename(columns = {'Class':'Predicted'}, inplace = True)\n",
    "\n",
    "\n",
    "X = df.Predicted\n",
    "y = df.Target\n",
    "\n",
    "y_true = y\n",
    "y_pred = X\n",
    "\n",
    "\n",
    "\n",
    "#Generate the confusion matrix\n",
    "cm = confusion_matrix(y_true, y_pred, labels=[1, 2])\n",
    "print(cm)\n",
    "\n",
    "\n",
    "\n",
    "\n",
    "import seaborn as sns\n",
    "import matplotlib.pyplot as plt     \n",
    "group_names = ['True Neg','False Pos','False Neg','True Pos']\n",
    "group_counts = [\"{0:0.0f}\".format(value) for value in\n",
    "cm.flatten()]\n",
    "group_percentages = [\"{0:.2%}\".format(value) for value in\n",
    "cm.flatten()/np.sum(cm)]\n",
    "labels = [f\"{v1}\\n{v2}\\n{v3}\" for v1, v2, v3 in\n",
    "zip(group_names,group_counts,group_percentages)]\n",
    "labels = np.asarray(labels).reshape(2,2)\n",
    "ax = sns.heatmap(cm, annot=labels, fmt='', cmap='Blues')\n",
    "ax.set_title('Confusion Matrix \\n Without using FFT File\\n');\n",
    "ax.set_xlabel('\\nPredicted Values')\n",
    "ax.set_ylabel('Actual Values ');\n",
    "## Ticket labels - List must be in alphabetical order\n",
    "ax.xaxis.set_ticklabels(['Empty', 'Human'])\n",
    "ax.yaxis.set_ticklabels(['Empty', 'Human'])\n",
    "## Display the visualization of the Confusion Matrix.\n",
    "plt.show()\n",
    "\n",
    "print(classification_report(y_true, y_pred))\n",
    "\n",
    "FP = cm.sum(axis=0) - np.diag(cm)\n",
    "FN = cm.sum(axis=1) - np.diag(cm)\n",
    "TP = np.diag(cm)\n",
    "TN = cm.sum() - (FP + FN + TP)\n",
    "\n",
    "FP = FP.astype(float)\n",
    "FN = FN.astype(float)\n",
    "TP = TP.astype(float)\n",
    "TN = TN.astype(float)\n",
    "\n",
    "#Precision \n",
    "\n",
    "Precision = TP/(TP+FP)\n",
    "\n",
    "#Recall \n",
    "\n",
    "Recall = TP/(TP+FN)\n",
    "\n",
    "#F1 score\n",
    "\n",
    "f1_score = (Precision*Recall)/(Precision+Recall)\n",
    "\n",
    "\n",
    "# Sensitivity, hit rate, recall, or true positive rate\n",
    "TPR = TP/(TP+FN)\n",
    "# Specificity or true negative rate\n",
    "TNR = TN/(TN+FP) \n",
    "# Precision or positive predictive value\n",
    "PPV = TP/(TP+FP)\n",
    "# Negative predictive value\n",
    "NPV = TN/(TN+FN)\n",
    "# Fall out or false positive rate\n",
    "FPR = FP/(FP+TN)\n",
    "# False negative rate\n",
    "FNR = FN/(TP+FN)\n",
    "# False discovery rate\n",
    "FDR = FP/(TP+FP)\n",
    "\n",
    "# Overall accuracy\n",
    "ACC = (TP+TN)/(TP+FP+FN+TN)\n",
    "\n",
    "print('TPR: '+str(TPR))\n",
    "print('TNR: '+str(TNR))\n",
    "print('PPV: '+str(PPV))\n",
    "print('NPV: '+str(NPV))\n",
    "print('FPR: '+str(FPR*100))\n",
    "print('FNR: '+str(FNR*100))\n",
    "print('FDR: '+str(FDR))\n",
    "print('ACC: '+str(ACC))\n"
   ]
  },
  {
   "cell_type": "code",
   "execution_count": 37,
   "id": "eeaefb05",
   "metadata": {},
   "outputs": [
    {
     "name": "stdout",
     "output_type": "stream",
     "text": [
      "[[1910  694]\n",
      " [1297 1049]]\n"
     ]
    },
    {
     "data": {
      "image/png": "[encoded data removed]",
      "text/plain": [
       "<Figure size 432x288 with 2 Axes>"
      ]
     },
     "metadata": {
      "needs_background": "light"
     },
     "output_type": "display_data"
    },
    {
     "name": "stdout",
     "output_type": "stream",
     "text": [
      "              precision    recall  f1-score   support\n",
      "\n",
      "           1       0.60      0.73      0.66      2604\n",
      "           2       0.60      0.45      0.51      2346\n",
      "\n",
      "    accuracy                           0.60      4950\n",
      "   macro avg       0.60      0.59      0.59      4950\n",
      "weighted avg       0.60      0.60      0.59      4950\n",
      "\n",
      "TPR: [0.73348694 0.44714408]\n",
      "TNR: [0.44714408 0.73348694]\n",
      "PPV: [0.59557219 0.60183592]\n",
      "NPV: [0.60183592 0.59557219]\n",
      "FPR: [55.2855925  26.65130568]\n",
      "FNR: [26.65130568 55.2855925 ]\n",
      "FDR: [0.40442781 0.39816408]\n",
      "ACC: [0.40442781 0.39816408]\n"
     ]
    }
   ],
   "source": [
    "#with Classification \n",
    "\n",
    "import numpy as np\n",
    "from sklearn.model_selection import train_test_split\n",
    "import pandas as pd\n",
    "from sklearn import datasets\n",
    "from sklearn.model_selection import train_test_split\n",
    "from sklearn.preprocessing import StandardScaler\n",
    "from sklearn.ensemble import RandomForestClassifier\n",
    "from sklearn.pipeline import make_pipeline\n",
    "import matplotlib.pyplot as plt\n",
    "import numpy as np\n",
    "from sklearn.metrics import f1_score\n",
    "from sklearn.metrics import confusion_matrix\n",
    "from sklearn.metrics import classification_report\n",
    "from sklearn.pipeline import make_pipeline\n",
    "from sklearn.ensemble import RandomForestClassifier\n",
    "from sklearn.impute import SimpleImputer\n",
    "from sklearn.model_selection import train_test_split\n",
    "import category_encoders as ce\n",
    "\n",
    "# label the data and remove the unwanted column\n",
    "df = pd.read_csv('fft_P2 Winter Wear noMovement X200Y10000_.txt', delimiter=\"\\t\") # only change file name \n",
    "df1 = df.drop(['V0,2', '2,48', '0,0'], axis = 1) # check the fft file first and as per that change it, because in this only int value to train data. \n",
    "df1.drop(df.columns[0], axis=1, inplace=True)\n",
    "df1['Target'] = 2 # Creating a traget column with respect the usecase.\n",
    "df1.rename(columns = {'1':'Predicted'}, inplace = True)#label the data.\n",
    "X = df1.drop(['Predicted'],axis=1).values\n",
    "y = df1.Predicted\n",
    "\n",
    "\n",
    "\n",
    "# Split the data in train and test form. \n",
    "X_train, X_test, y_train, y_test = train_test_split(\n",
    "    X, y, test_size=0.99, random_state=26)\n",
    "\n",
    "\n",
    "\n",
    "# initiate an rf classifier using a pipeline\n",
    "clf = make_pipeline(\n",
    "    SimpleImputer(strategy=\"mean\"), RandomForestClassifier(random_state=26))\n",
    "\n",
    "# train the classifier on training data\n",
    "clf.fit(X_train, y_train)\n",
    "\n",
    "# make predictions on test data\n",
    "pred = clf.predict(X_test)\n",
    "\n",
    "#Generate the confusion matrix\n",
    "cm1 = confusion_matrix(y_test, pred, labels=[1, 2])\n",
    "print(cm1)\n",
    "\n",
    "import seaborn as sns\n",
    "import matplotlib.pyplot as plt     \n",
    "import seaborn as sns\n",
    "import matplotlib.pyplot as plt     \n",
    "group_names = ['True Neg','False Pos','False Neg','True Pos']\n",
    "group_counts = [\"{0:0.0f}\".format(value) for value in\n",
    "cm1.flatten()]\n",
    "group_percentages = [\"{0:.2%}\".format(value) for value in\n",
    "cm1.flatten()/np.sum(cm1)]\n",
    "labels = [f\"{v1}\\n{v2}\\n{v3}\" for v1, v2, v3 in\n",
    "zip(group_names,group_counts,group_percentages)]\n",
    "labels = np.asarray(labels).reshape(2,2)\n",
    "ax = sns.heatmap(cm1, annot=labels, fmt='', cmap='Blues')\n",
    "ax.set_title('Confusion Matrix  \\n with using FFT File');\n",
    "ax.set_xlabel('\\nPredicted Values')\n",
    "ax.set_ylabel('Actual Values ');\n",
    "## Ticket labels - List must be in alphabetical order\n",
    "ax.xaxis.set_ticklabels(['Empty', 'Human'])\n",
    "ax.yaxis.set_ticklabels(['Empty', 'Human'])\n",
    "## Display the visualization of the Confusion Matrix.\n",
    "plt.show()\n",
    "\n",
    "print(classification_report(y_test, pred))\n",
    "\n",
    "\n",
    "FP = cm1.sum(axis=0) - np.diag(cm1)\n",
    "FN = cm1.sum(axis=1) - np.diag(cm1)\n",
    "TP = np.diag(cm1)\n",
    "TN = cm1.sum() - (FP + FN + TP)\n",
    "\n",
    "FP = FP.astype(float)\n",
    "FN = FN.astype(float)\n",
    "TP = TP.astype(float)\n",
    "TN = TN.astype(float)\n",
    "\n",
    "\n",
    "# Sensitivity, hit rate, recall, or true positive rate\n",
    "TPR = TP/(TP+FN)\n",
    "# Specificity or true negative rate\n",
    "TNR = TN/(TN+FP) \n",
    "# Precision or positive predictive value\n",
    "PPV = TP/(TP+FP)\n",
    "# Negative predictive value\n",
    "NPV = TN/(TN+FN)\n",
    "# Fall out or false positive rate\n",
    "FPR = FP/(FP+TN)\n",
    "# False negative rate\n",
    "FNR = FN/(TP+FN)\n",
    "# False discovery rate\n",
    "FDR = FP/(TP+FP)\n",
    "\n",
    "# Overall accuracy\n",
    "ACC = (TP+TN)/(TP+FP+FN+TN)\n",
    "\n",
    "print('TPR: '+str(TPR))\n",
    "print('TNR: '+str(TNR))\n",
    "print('PPV: '+str(PPV))\n",
    "print('NPV: '+str(NPV))\n",
    "print('FPR: '+str(FPR*100))\n",
    "print('FNR: '+str(FNR*100))\n",
    "print('FDR: '+str(FDR))\n",
    "print('ACC: '+str(ACC))\n"
   ]
  },
  {
   "cell_type": "code",
   "execution_count": 20,
   "id": "7e515742",
   "metadata": {},
   "outputs": [],
   "source": [
    "# split data into training and testing sets\n",
    "\n",
    "from sklearn.model_selection import train_test_split\n",
    "\n",
    "X_train, X_test, y_train, y_test = train_test_split(X, y, test_size = 0.33, random_state = 42)"
   ]
  },
  {
   "cell_type": "code",
   "execution_count": 39,
   "id": "ffaa400d",
   "metadata": {},
   "outputs": [
    {
     "name": "stdout",
     "output_type": "stream",
     "text": [
      "Model accuracy score with 10 decision-trees : 0.5925\n"
     ]
    }
   ],
   "source": [
    "# import Random Forest classifier\n",
    "\n",
    "from sklearn.ensemble import RandomForestClassifier\n",
    "\n",
    "\n",
    "# instantiate the classifier \n",
    "\n",
    "rfc = RandomForestClassifier(random_state=0)\n",
    "\n",
    "\n",
    "# fit the model\n",
    "\n",
    "rfc.fit(X_train, y_train)\n",
    "\n",
    "\n",
    "# Predict the Test set results\n",
    "\n",
    "y_pred = rfc.predict(X_test)\n",
    "\n",
    "\n",
    "# Check accuracy score \n",
    "\n",
    "from sklearn.metrics import accuracy_score\n",
    "\n",
    "print('Model accuracy score with 10 decision-trees : {0:0.4f}'. format(accuracy_score(y_test, y_pred)))"
   ]
  },
  {
   "cell_type": "code",
   "execution_count": 40,
   "id": "d98b3aa0",
   "metadata": {},
   "outputs": [
    {
     "name": "stdout",
     "output_type": "stream",
     "text": [
      "Confusion matrix\n",
      "\n",
      " [[1953  651]\n",
      " [1366  980]]\n"
     ]
    }
   ],
   "source": [
    "# Print the Confusion Matrix and slice it into four pieces\n",
    "\n",
    "from sklearn.metrics import confusion_matrix\n",
    "\n",
    "cm = confusion_matrix(y_test, y_pred)\n",
    "\n",
    "print('Confusion matrix\\n\\n', cm)"
   ]
  },
  {
   "cell_type": "code",
   "execution_count": 42,
   "id": "515c0a40",
   "metadata": {},
   "outputs": [
    {
     "name": "stdout",
     "output_type": "stream",
     "text": [
      "              precision    recall  f1-score   support\n",
      "\n",
      "           1       0.59      0.75      0.66      2604\n",
      "           2       0.60      0.42      0.49      2346\n",
      "\n",
      "    accuracy                           0.59      4950\n",
      "   macro avg       0.59      0.58      0.58      4950\n",
      "weighted avg       0.59      0.59      0.58      4950\n",
      "\n"
     ]
    }
   ],
   "source": [
    "from sklearn.metrics import classification_report\n",
    "\n",
    "print(classification_report(y_test, y_pred))"
   ]
  },
  {
   "cell_type": "code",
   "execution_count": 27,
   "id": "caaaa581",
   "metadata": {},
   "outputs": [
    {
     "data": {
      "text/plain": [
       "RandomForestClassifier()"
      ]
     },
     "execution_count": 27,
     "metadata": {},
     "output_type": "execute_result"
    }
   ],
   "source": [
    "from sklearn.ensemble import RandomForestClassifier\n",
    "\n",
    "#Create a Gaussian Classifier\n",
    "clf=RandomForestClassifier(n_estimators=100)\n",
    "\n",
    "#Train the model using the training sets y_pred=clf.predict(X_test)\n",
    "clf.fit(X_train,y_train)\n",
    "\n"
   ]
  },
  {
   "cell_type": "code",
   "execution_count": 32,
   "id": "07328f8d",
   "metadata": {},
   "outputs": [
    {
     "name": "stdout",
     "output_type": "stream",
     "text": [
      "Model accuracy score with 100 decision-trees : 0.6988\n"
     ]
    }
   ],
   "source": [
    "# instantiate the classifier with n_estimators = 100\n",
    "\n",
    "rfc_100 = RandomForestClassifier(n_estimators=100, random_state=0)\n",
    "\n",
    "\n",
    "\n",
    "# fit the model to the training set\n",
    "\n",
    "rfc_100.fit(X_train, y_train)\n",
    "\n",
    "\n",
    "\n",
    "# Predict on the test set results\n",
    "\n",
    "y_pred_100 = rfc_100.predict(X_test)\n",
    "\n",
    "\n",
    "\n",
    "# Check accuracy score \n",
    "\n",
    "print('Model accuracy score with 100 decision-trees : {0:0.4f}'. format(accuracy_score(y_test, y_pred_100)))"
   ]
  },
  {
   "cell_type": "code",
   "execution_count": 29,
   "id": "d9934db8",
   "metadata": {},
   "outputs": [
    {
     "data": {
      "text/plain": [
       "RandomForestClassifier(random_state=0)"
      ]
     },
     "execution_count": 29,
     "metadata": {},
     "output_type": "execute_result"
    }
   ],
   "source": [
    "# create the classifier with n_estimators = 100\n",
    "\n",
    "clf = RandomForestClassifier(n_estimators=100, random_state=0)\n",
    "\n",
    "\n",
    "\n",
    "# fit the model to the training set\n",
    "\n",
    "clf.fit(X_train, y_train)"
   ]
  },
  {
   "cell_type": "code",
   "execution_count": 14,
   "id": "ab8df9c5",
   "metadata": {},
   "outputs": [
    {
     "data": {
      "text/plain": [
       "RandomForestClassifier(random_state=0)"
      ]
     },
     "execution_count": 14,
     "metadata": {},
     "output_type": "execute_result"
    }
   ],
   "source": [
    "# create the classifier with n_estimators = 100\n",
    "\n",
    "clf = RandomForestClassifier(n_estimators=100, random_state=0)\n",
    "\n",
    "\n",
    "\n",
    "# fit the model to the training set\n",
    "\n",
    "clf.fit(X_train, y_train)"
   ]
  }
 ],
 "metadata": {
  "kernelspec": {
   "display_name": "Python 3 (ipykernel)",
   "language": "python",
   "name": "python3"
  },
  "language_info": {
   "codemirror_mode": {
    "name": "ipython",
    "version": 3
   },
   "file_extension": ".py",
   "mimetype": "text/x-python",
   "name": "python",
   "nbconvert_exporter": "python",
   "pygments_lexer": "ipython3",
   "version": "3.9.12"
  }
 },
 "nbformat": 4,
 "nbformat_minor": 5
}
